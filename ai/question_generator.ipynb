{
 "cells": [
  {
   "cell_type": "code",
   "execution_count": 1,
   "metadata": {},
   "outputs": [
    {
     "name": "stdout",
     "output_type": "stream",
     "text": [
      "Using GPU: NVIDIA GeForce RTX 2070 SUPER\n"
     ]
    },
    {
     "data": {
      "application/vnd.jupyter.widget-view+json": {
       "model_id": "4b3ab3aeb7cf446995f3efe48330562c",
       "version_major": 2,
       "version_minor": 0
      },
      "text/plain": [
       "Loading checkpoint shards:   0%|          | 0/8 [00:00<?, ?it/s]"
      ]
     },
     "metadata": {},
     "output_type": "display_data"
    },
    {
     "name": "stderr",
     "output_type": "stream",
     "text": [
      "Device set to use cuda:0\n",
      "The model 'MistralForCausalLM' is not supported for text2text-generation. Supported models are ['BartForConditionalGeneration', 'BigBirdPegasusForConditionalGeneration', 'BlenderbotForConditionalGeneration', 'BlenderbotSmallForConditionalGeneration', 'EncoderDecoderModel', 'FSMTForConditionalGeneration', 'GPTSanJapaneseForConditionalGeneration', 'LEDForConditionalGeneration', 'LongT5ForConditionalGeneration', 'M2M100ForConditionalGeneration', 'MarianMTModel', 'MBartForConditionalGeneration', 'MT5ForConditionalGeneration', 'MvpForConditionalGeneration', 'NllbMoeForConditionalGeneration', 'PegasusForConditionalGeneration', 'PegasusXForConditionalGeneration', 'PLBartForConditionalGeneration', 'ProphetNetForConditionalGeneration', 'Qwen2AudioForConditionalGeneration', 'SeamlessM4TForTextToText', 'SeamlessM4Tv2ForTextToText', 'SwitchTransformersForConditionalGeneration', 'T5ForConditionalGeneration', 'UMT5ForConditionalGeneration', 'XLMProphetNetForConditionalGeneration'].\n"
     ]
    },
    {
     "name": "stdout",
     "output_type": "stream",
     "text": [
      "Job Title: Satan's Butt Scratcher\n",
      "\n",
      "    You are an AI recruiter at Hell Inc., a company in the underworld. Your job is to create absurd, funny, and highly creative interview questions for the position of Satan's Butt Scratcher. These questions should be humorous, strange, and relate specifically to the job's duties in Hell. Be as absurd and creative as possible. For example, if the job title is 'Lava Pool Lifeguard,' questions should involve scenarios where you have to manage lava-related incidents or save souls. If it’s 'Soul Harvester,' include funny situations around collecting souls. Avoid generic questions like 'What is the most important part of the job?' and make sure the questions are suitable for a hellish job interview.\n",
      "    1. \"Have you ever accidentally scratched Satan's butt instead of your own, and if so, how did you handle the situation? Please provide a detailed explanation of your actions during and after the incident.\"\n",
      "    2. \"If Satan's butt suddenly transformed into a lava pit, how would you go about saving souls who fell into it without getting burned yourself? Please draw us a diagram of your\n",
      "\n",
      "Job Title: Hellhound Whisperer\n",
      "\n",
      "    You are an AI recruiter at Hell Inc., a company in the underworld. Your job is to create absurd, funny, and highly creative interview questions for the position of Hellhound Whisperer. These questions should be humorous, strange, and relate specifically to the job's duties in Hell. Be as absurd and creative as possible. For example, if the job title is 'Lava Pool Lifeguard,' questions should involve scenarios where you have to manage lava-related incidents or save souls. If it’s 'Soul Harvester,' include funny situations around collecting souls. Avoid generic questions like 'What is the most important part of the job?' and make sure the questions are suitable for a hellish job interview.\n",
      "    1. You're standing in a room filled with nothing but a thousand doors. Each door leads to a different level of Hell. How do you know which door to open to find the perfect Hellhound for our team?\n",
      "    2. What's your favorite type of torture to implement on disobedient Hellhounds?\n",
      "    3. You're in charge of Hell's annual Halloween party. How do you make\n",
      "\n",
      "Job Title: Lava Pool Lifeguard\n",
      "\n",
      "    You are an AI recruiter at Hell Inc., a company in the underworld. Your job is to create absurd, funny, and highly creative interview questions for the position of Lava Pool Lifeguard. These questions should be humorous, strange, and relate specifically to the job's duties in Hell. Be as absurd and creative as possible. For example, if the job title is 'Lava Pool Lifeguard,' questions should involve scenarios where you have to manage lava-related incidents or save souls. If it’s 'Soul Harvester,' include funny situations around collecting souls. Avoid generic questions like 'What is the most important part of the job?' and make sure the questions are suitable for a hellish job interview.\n",
      "    1. In the event that a soul escapes from our lava pools, what creative methods would you use to entice them back into the water?\n",
      "    2. How would you ensure that the souls swimming in our lava pools are not just figments of their imagination?\n",
      "    3. Can you demonstrate your ability to swim in molten lava for at least 15 seconds without burning to a crisp?\n",
      "\n",
      "\n",
      "Job Title: Torture Tester\n",
      "\n",
      "    You are an AI recruiter at Hell Inc., a company in the underworld. Your job is to create absurd, funny, and highly creative interview questions for the position of Torture Tester. These questions should be humorous, strange, and relate specifically to the job's duties in Hell. Be as absurd and creative as possible. For example, if the job title is 'Lava Pool Lifeguard,' questions should involve scenarios where you have to manage lava-related incidents or save souls. If it’s 'Soul Harvester,' include funny situations around collecting souls. Avoid generic questions like 'What is the most important part of the job?' and make sure the questions are suitable for a hellish job interview.\n",
      "    1. What is your favorite type of demon to torture, and why?\n",
      "    2. Can you suggest a creative new form of torture that hasn't been used before in Hell?\n",
      "    3. Have you ever accidentally tortured an angel instead of a demon? If so, how did you handle the situation?\n",
      "    4. How do you keep the demons in your torture chamber entertained for hours on end?\n",
      "    5. Have\n",
      "\n",
      "Job Title: Ginger Torture Specialist\n",
      "\n",
      "    You are an AI recruiter at Hell Inc., a company in the underworld. Your job is to create absurd, funny, and highly creative interview questions for the position of Ginger Torture Specialist. These questions should be humorous, strange, and relate specifically to the job's duties in Hell. Be as absurd and creative as possible. For example, if the job title is 'Lava Pool Lifeguard,' questions should involve scenarios where you have to manage lava-related incidents or save souls. If it’s 'Soul Harvester,' include funny situations around collecting souls. Avoid generic questions like 'What is the most important part of the job?' and make sure the questions are suitable for a hellish job interview.\n",
      "    \n",
      "1. You're walking through the underworld and suddenly you see a soul caught in a fiery vortex. How would you navigate the vortex to rescue them, while avoiding getting pulled in yourself?\n",
      "\n",
      "2. Describe your experience of juggling hot coals with your bare hands while being chased by demons.\n",
      "\n",
      "3. If you could only use one tool for your ginger torture duties, what would\n",
      "\n",
      "Job Title: Demon Barber\n",
      "\n",
      "    You are an AI recruiter at Hell Inc., a company in the underworld. Your job is to create absurd, funny, and highly creative interview questions for the position of Demon Barber. These questions should be humorous, strange, and relate specifically to the job's duties in Hell. Be as absurd and creative as possible. For example, if the job title is 'Lava Pool Lifeguard,' questions should involve scenarios where you have to manage lava-related incidents or save souls. If it’s 'Soul Harvester,' include funny situations around collecting souls. Avoid generic questions like 'What is the most important part of the job?' and make sure the questions are suitable for a hellish job interview.\n",
      "    1. \"How would you style the hair of a soul with singed hair caused by the flames of Hell? Bonus points for suggestions on how to make their hair look fashionable despite being burnt beyond recognition.\"\n",
      "    2. \"Imagine a customer comes into your barbershop with wings, how would you ensure their wings do not get in the way of the haircut, and do you suggest any hairstyles that would look good with wings\n",
      "\n",
      "Job Title: Soul Harvester\n",
      "\n",
      "    You are an AI recruiter at Hell Inc., a company in the underworld. Your job is to create absurd, funny, and highly creative interview questions for the position of Soul Harvester. These questions should be humorous, strange, and relate specifically to the job's duties in Hell. Be as absurd and creative as possible. For example, if the job title is 'Lava Pool Lifeguard,' questions should involve scenarios where you have to manage lava-related incidents or save souls. If it’s 'Soul Harvester,' include funny situations around collecting souls. Avoid generic questions like 'What is the most important part of the job?' and make sure the questions are suitable for a hellish job interview.\n",
      "    1. If a soul has committed multiple sins, which one should you take first? Why?\n",
      "    2. Imagine that you're stranded in a sea of molten lava. The only way to reach the other side is to jump on floating souls. How would you prioritize which souls to jump on?\n",
      "    3. How would you convince a soul that it's time to leave Earth and come to Hell?\n",
      "    4.\n",
      "\n",
      "Job Title: Underworld Tour Guide\n",
      "\n",
      "    You are an AI recruiter at Hell Inc., a company in the underworld. Your job is to create absurd, funny, and highly creative interview questions for the position of Underworld Tour Guide. These questions should be humorous, strange, and relate specifically to the job's duties in Hell. Be as absurd and creative as possible. For example, if the job title is 'Lava Pool Lifeguard,' questions should involve scenarios where you have to manage lava-related incidents or save souls. If it’s 'Soul Harvester,' include funny situations around collecting souls. Avoid generic questions like 'What is the most important part of the job?' and make sure the questions are suitable for a hellish job interview.\n",
      "    1. Imagine you're stuck in a never-ending line for the elevators to the burning pit, and you notice that some souls have brought their luggage with them. How would you politely inform them that they can't bring any luggage into the pit?\n",
      "    2. How would you convince a group of souls that the brimstone ice cream is the best ice cream ever, despite its awful smell and taste?\n",
      "    3.\n",
      "\n",
      "Job Title: Underworld Chef\n",
      "\n",
      "    You are an AI recruiter at Hell Inc., a company in the underworld. Your job is to create absurd, funny, and highly creative interview questions for the position of Underworld Chef. These questions should be humorous, strange, and relate specifically to the job's duties in Hell. Be as absurd and creative as possible. For example, if the job title is 'Lava Pool Lifeguard,' questions should involve scenarios where you have to manage lava-related incidents or save souls. If it’s 'Soul Harvester,' include funny situations around collecting souls. Avoid generic questions like 'What is the most important part of the job?' and make sure the questions are suitable for a hellish job interview.\n",
      "    1. How would you prepare a soul for the ultimate feast in Hell? Would you prefer it medium-rare, well-done, or burnt to a crisp?\n",
      "    2. Have you ever accidentally added a living human to your recipe for soul stew? If so, how did you rectify the situation?\n",
      "    3. If you could design your own special sauce to enhance the flavor of souls, what ingredients would you include and\n",
      "\n",
      "Job Title: Underworld DJ\n",
      "\n",
      "    You are an AI recruiter at Hell Inc., a company in the underworld. Your job is to create absurd, funny, and highly creative interview questions for the position of Underworld DJ. These questions should be humorous, strange, and relate specifically to the job's duties in Hell. Be as absurd and creative as possible. For example, if the job title is 'Lava Pool Lifeguard,' questions should involve scenarios where you have to manage lava-related incidents or save souls. If it’s 'Soul Harvester,' include funny situations around collecting souls. Avoid generic questions like 'What is the most important part of the job?' and make sure the questions are suitable for a hellish job interview.\n",
      "    1. \"Imagine you're spinning a track in the fiery abyss and suddenly, a lost soul jumps into the lava pool. As the resident DJ of Hell, what would you do? Would you stop the music and save the soul or let them sink and continue the party?\"\n",
      "    2. \"In Hell, it's essential to maintain a good vibe for the soul-dancing crowd. Can you describe how you would\n",
      "\n"
     ]
    }
   ],
   "source": [
    "from transformers import pipeline\n",
    "import torch\n",
    "\n",
    "if torch.cuda.is_available():\n",
    "    device = 0  # Use the first GPU\n",
    "    print(f\"Using GPU: {torch.cuda.get_device_name(device)}\")\n",
    "else:\n",
    "    device = -1 # Use CPU\n",
    "    print(\"Using CPU\")\n",
    "\n",
    "# Load the Mistral-7B model with FP16 precision (if on GPU)\n",
    "mistral_generator = pipeline(\n",
    "    \"text2text-generation\", \n",
    "    model=\"HuggingFaceH4/zephyr-7b-beta\", \n",
    "    device=device,\n",
    "    torch_dtype=torch.float16 if torch.cuda.is_available() else torch.float32\n",
    ")\n",
    "\n",
    "def answer(prompt, job_title):\n",
    "    # Custom prompt for more absurd and creative questions\n",
    "    prompt = f\"\"\"\n",
    "    You are an AI recruiter at Hell Inc., a company in the underworld. Your job is to create absurd, funny, and highly creative interview questions for the position of {job_title}. These questions should be humorous, strange, and relate specifically to the job's duties in Hell. Be as absurd and creative as possible. For example, if the job title is 'Lava Pool Lifeguard,' questions should involve scenarios where you have to manage lava-related incidents or save souls. If it’s 'Soul Harvester,' include funny situations around collecting souls. Avoid generic questions like 'What is the most important part of the job?' and make sure the questions are suitable for a hellish job interview.\n",
    "    \"\"\"\n",
    "    \n",
    "    return mistral_generator(prompt, max_length=250, num_return_sequences=1, temperature=0.85, top_p=0.9, do_sample=True)\n",
    "\n",
    "# Example usage:\n",
    "job_titles = [\n",
    "    \"Satan's Butt Scratcher\",\n",
    "    \"Hellhound Whisperer\",\n",
    "    \"Lava Pool Lifeguard\",\n",
    "    \"Torture Tester\",\n",
    "    \"Ginger Torture Specialist\",\n",
    "    \"Demon Barber\",\n",
    "    \"Soul Harvester\",\n",
    "    \"Underworld Tour Guide\",\n",
    "    \"Underworld Chef\",\n",
    "    \"Underworld DJ\",\n",
    "]\n",
    "\n",
    "for job_title in job_titles:\n",
    "    print(f\"Job Title: {job_title}\")\n",
    "    print(answer(\"\", job_title)[0][\"generated_text\"])\n",
    "    print()\n"
   ]
  }
 ],
 "metadata": {
  "kernelspec": {
   "display_name": "env",
   "language": "python",
   "name": "python3"
  },
  "language_info": {
   "codemirror_mode": {
    "name": "ipython",
    "version": 3
   },
   "file_extension": ".py",
   "mimetype": "text/x-python",
   "name": "python",
   "nbconvert_exporter": "python",
   "pygments_lexer": "ipython3",
   "version": "3.12.0"
  }
 },
 "nbformat": 4,
 "nbformat_minor": 2
}
